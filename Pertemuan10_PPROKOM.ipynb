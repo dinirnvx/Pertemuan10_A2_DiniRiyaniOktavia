{
  "nbformat": 4,
  "nbformat_minor": 0,
  "metadata": {
    "colab": {
      "provenance": []
    },
    "kernelspec": {
      "name": "python3",
      "display_name": "Python 3"
    },
    "language_info": {
      "name": "python"
    }
  },
  "cells": [
    {
      "cell_type": "markdown",
      "source": [
        "# 1"
      ],
      "metadata": {
        "id": "JrVpZIgOiQ_J"
      }
    },
    {
      "cell_type": "code",
      "execution_count": null,
      "metadata": {
        "colab": {
          "base_uri": "https://localhost:8080/"
        },
        "id": "96H3hLEOCY4q",
        "outputId": "2556fcf0-82d8-4666-9d4d-cf7382fb42c0"
      },
      "outputs": [
        {
          "output_type": "stream",
          "name": "stdout",
          "text": [
            "[[1, 0], [0, 1]]\n",
            "[[5, 0], [2, 6]]\n",
            "[[1, 0, 1], [0, 1, 0], [1, 0, 1]]\n",
            "[[5, 0, 8], [2, 6, 7], [1, 3, 4]]\n",
            "[[1, 0, 1, 0], [0, 1, 0, 1], [1, 0, 1, 0], [0, 1, 0, 1]]\n",
            "[[1, 0, 0, 0], [0, 1, 0, 0], [0, 0, 1, 0], [0, 0, 0, 1]]\n"
          ]
        }
      ],
      "source": [
        "#Matriks dengan ukuran 2x2\n",
        "matriksA = [[1,0], [0,1]]\n",
        "matrix = [[5, 0], [2, 6], ]\n",
        "print (matriksA)\n",
        "print (matrix)\n",
        "\n",
        "#Matriks dengan ukuran 3x3\n",
        "matriksB = [[1,0,1], [0,1,0], [1,0,1]]\n",
        "matrix1 = [[5, 0, 8], [2, 6, 7], [1, 3, 4],]\n",
        "print (matriksB)\n",
        "print (matrix1)\n",
        "\n",
        "#Matriks dengan ukuran 4x4\n",
        "matriksC = [[1,0,1,0], [0,1,0,1], [1,0,1,0], [0,1,0,1]]\n",
        "matrix2 = [[1, 0, 0, 0], [0, 1, 0, 0], [0, 0, 1, 0], [0, 0, 0, 1],]\n",
        "print(matriksC)\n",
        "print(matrix2)"
      ]
    },
    {
      "cell_type": "markdown",
      "source": [
        "# 2"
      ],
      "metadata": {
        "id": "EVuaFyekiYqL"
      }
    },
    {
      "cell_type": "code",
      "source": [
        "m = 4\n",
        "n = 5\n",
        "x = [0]*m\n",
        "for i in range(m):\n",
        "    x[i] = [1]*n\n",
        "    print(x)"
      ],
      "metadata": {
        "colab": {
          "base_uri": "https://localhost:8080/"
        },
        "id": "iqg4PK5iDIkg",
        "outputId": "60cc2bd5-4c51-4b00-9a00-d2c4bd394939"
      },
      "execution_count": null,
      "outputs": [
        {
          "output_type": "stream",
          "name": "stdout",
          "text": [
            "[[1, 1, 1, 1, 1], 0, 0, 0]\n",
            "[[1, 1, 1, 1, 1], [1, 1, 1, 1, 1], 0, 0]\n",
            "[[1, 1, 1, 1, 1], [1, 1, 1, 1, 1], [1, 1, 1, 1, 1], 0]\n",
            "[[1, 1, 1, 1, 1], [1, 1, 1, 1, 1], [1, 1, 1, 1, 1], [1, 1, 1, 1, 1]]\n"
          ]
        }
      ]
    },
    {
      "cell_type": "markdown",
      "source": [
        "# 3"
      ],
      "metadata": {
        "id": "3lksIo5midKR"
      }
    },
    {
      "cell_type": "code",
      "source": [
        "m = int(input(\"Masukkan jumlah baris: \"))\n",
        "n = int(input(\"Masukkan jumlah kolom: \"))\n",
        "x = [0]*m\n",
        "for i in range(m):\n",
        "    x[i] = [1]*n\n",
        "    print(x)"
      ],
      "metadata": {
        "colab": {
          "base_uri": "https://localhost:8080/"
        },
        "id": "LvhxX9y3Duk5",
        "outputId": "992f21a0-7397-40ac-f01a-bba724f33a5d"
      },
      "execution_count": null,
      "outputs": [
        {
          "output_type": "stream",
          "name": "stdout",
          "text": [
            "Masukkan jumlah baris: 3\n",
            "Masukkan jumlah kolom: 3\n",
            "[[1, 1, 1], 0, 0]\n",
            "[[1, 1, 1], [1, 1, 1], 0]\n",
            "[[1, 1, 1], [1, 1, 1], [1, 1, 1]]\n"
          ]
        }
      ]
    },
    {
      "cell_type": "markdown",
      "source": [
        "# 4"
      ],
      "metadata": {
        "id": "34--_a0dimFh"
      }
    },
    {
      "cell_type": "code",
      "source": [
        "matrix = [\n",
        "    [5, 0],\n",
        "    [2, 6],\n",
        "]\n",
        "for x in range(0, len(matrix)):\n",
        "    for y in range(0, len(matrix[0])):\n",
        "        print (matrix[x][y], end=' '),\n",
        "    print()"
      ],
      "metadata": {
        "colab": {
          "base_uri": "https://localhost:8080/"
        },
        "id": "OKUrqIhTE9zc",
        "outputId": "c871c8ca-e9d9-4e78-9829-32b5ec54c88a"
      },
      "execution_count": null,
      "outputs": [
        {
          "output_type": "stream",
          "name": "stdout",
          "text": [
            "5 0 \n",
            "2 6 \n"
          ]
        }
      ]
    },
    {
      "cell_type": "markdown",
      "source": [
        "# 5"
      ],
      "metadata": {
        "id": "d9nZG3LViqbU"
      }
    },
    {
      "cell_type": "code",
      "source": [
        "mat1 = [\n",
        "    [5, 0],\n",
        "    [2, 6],\n",
        "]\n",
        "mat2 = [\n",
        "    [1, 0],\n",
        "    [4, 2],\n",
        "]\n",
        "for x in range(0, len(mat1)):\n",
        "    for y in range(0, len(mat1[0])):\n",
        "        print (mat1[x][y] + mat2[x][y], end=' '),\n",
        "    print()"
      ],
      "metadata": {
        "colab": {
          "base_uri": "https://localhost:8080/"
        },
        "id": "caf9Y5irF7nJ",
        "outputId": "e95a596d-091c-4a46-b260-54e29b3e811e"
      },
      "execution_count": null,
      "outputs": [
        {
          "output_type": "stream",
          "name": "stdout",
          "text": [
            "6 0 \n",
            "6 8 \n"
          ]
        }
      ]
    },
    {
      "cell_type": "markdown",
      "source": [
        "# 6"
      ],
      "metadata": {
        "id": "ejjkiP0KitZo"
      }
    },
    {
      "cell_type": "code",
      "source": [
        "mat1 = [\n",
        "    [5, 0],\n",
        "    [2, 6],\n",
        "]\n",
        "mat2 = [\n",
        "    [1, 0],\n",
        "    [4, 2],\n",
        "]\n",
        "for x in range(0, len(mat1)):\n",
        "    for y in range(0, len(mat1[0])):\n",
        "        print (mat1[x][y] - mat2[x][y], end=' '),\n",
        "    print()"
      ],
      "metadata": {
        "colab": {
          "base_uri": "https://localhost:8080/"
        },
        "id": "w0jbg7XDG8lV",
        "outputId": "065b7129-8891-4594-b558-2ffa2bca1d87"
      },
      "execution_count": null,
      "outputs": [
        {
          "output_type": "stream",
          "name": "stdout",
          "text": [
            "4 0 \n",
            "-2 4 \n"
          ]
        }
      ]
    },
    {
      "cell_type": "markdown",
      "source": [
        "# 7"
      ],
      "metadata": {
        "id": "nSRPKjQ5iwk8"
      }
    },
    {
      "cell_type": "code",
      "source": [
        "mat1 = [\n",
        "    [5, 0],\n",
        "    [2, 6],\n",
        "]\n",
        "mat2 = [\n",
        "    [1, 0],\n",
        "    [4, 2],\n",
        "]\n",
        "mat3 = []\n",
        "for x in range(0, len(mat1)):\n",
        "    row = []\n",
        "    for y in range(0, len(mat1[0])):\n",
        "        total = 0\n",
        "        for z in range(0, len(mat1)):\n",
        "            total = total + (mat1[x][z] * mat2[z][y])\n",
        "        row.append(total)\n",
        "    mat3.append(row)\n",
        "for x in range(0, len(mat3)):\n",
        "    for y in range(0, len(mat3[0])):\n",
        "        print (mat3[x][y], end=' ')\n",
        "    print()"
      ],
      "metadata": {
        "colab": {
          "base_uri": "https://localhost:8080/"
        },
        "id": "gQ58eFl5HiD_",
        "outputId": "19cb5fb0-6866-46a8-8ca8-651dd94eda70"
      },
      "execution_count": null,
      "outputs": [
        {
          "output_type": "stream",
          "name": "stdout",
          "text": [
            "5 0 \n",
            "26 12 \n"
          ]
        }
      ]
    },
    {
      "cell_type": "markdown",
      "source": [
        "# 8"
      ],
      "metadata": {
        "id": "zNqJDKHviy_H"
      }
    },
    {
      "cell_type": "code",
      "source": [
        "def cetak_matriks(matriks):\n",
        "    for row in matriks:\n",
        "        print (row)\n",
        "def pjg_matriks(matriks):\n",
        "    return len(matriks[0])\n",
        "def lbr_matriks(matriks):\n",
        "    return len(matriks)\n",
        "def transpose_matriks(mat_a):\n",
        "    temp_row = []\n",
        "    temp_mat = []\n",
        "    for i in range(0, pjg_matriks(mat_a)):\n",
        "        for j in range(0, lbr_matriks(mat_a)):\n",
        "            temp_row.append( mat_a[j][i])\n",
        "        temp_mat.append(temp_row)\n",
        "        temp_row = []\n",
        "    return temp_mat\n",
        "matriks_a = [[1, 2, 3, 5], [3, 4, 5, 6], [5, 6, 7, 8]]\n",
        "matriks_b = [[1, 1, 1, 1], [1, 1, 1, 1], [1, 1, 1, 1]]\n",
        "print (\"matriks_a : \")\n",
        "cetak_matriks(matriks_a)\n",
        "print (\"transpose matriks_a : \")\n",
        "trp_mat_a = transpose_matriks(matriks_a)\n",
        "cetak_matriks(trp_mat_a)\n",
        "print (\"\\nmatriks_b : \")\n",
        "cetak_matriks(matriks_b)\n",
        "print (\"transpose matriks_b : \")\n",
        "trp_mat_b = transpose_matriks(matriks_b)\n",
        "cetak_matriks(trp_mat_b)"
      ],
      "metadata": {
        "colab": {
          "base_uri": "https://localhost:8080/"
        },
        "id": "NHRfmTOWIwcA",
        "outputId": "fc37e728-3625-4be8-d8af-2540a7e528db"
      },
      "execution_count": null,
      "outputs": [
        {
          "output_type": "stream",
          "name": "stdout",
          "text": [
            "matriks_a : \n",
            "[1, 2, 3, 5]\n",
            "[3, 4, 5, 6]\n",
            "[5, 6, 7, 8]\n",
            "transpose matriks_a : \n",
            "[1, 3, 5]\n",
            "[2, 4, 6]\n",
            "[3, 5, 7]\n",
            "[5, 6, 8]\n",
            "\n",
            "matriks_b : \n",
            "[1, 1, 1, 1]\n",
            "[1, 1, 1, 1]\n",
            "[1, 1, 1, 1]\n",
            "transpose matriks_b : \n",
            "[1, 1, 1]\n",
            "[1, 1, 1]\n",
            "[1, 1, 1]\n",
            "[1, 1, 1]\n"
          ]
        }
      ]
    },
    {
      "cell_type": "markdown",
      "source": [
        "# 9"
      ],
      "metadata": {
        "id": "rV1Tnj53jS-C"
      }
    },
    {
      "cell_type": "code",
      "source": [
        "X = [[12,7],\n",
        "    [4 ,5],\n",
        "    [3 ,8]]\n",
        "result = [[0,0,0],\n",
        "    [0,0,0]]\n",
        "# iterate through rows\n",
        "for i in range(len(X)):\n",
        "    # iterate through columns\n",
        "    for j in range(len(X[0])):\n",
        "        result[j][i] = X[i][j]\n",
        "for r in result:\n",
        "  print(r)"
      ],
      "metadata": {
        "colab": {
          "base_uri": "https://localhost:8080/"
        },
        "id": "toocq7W3Jnzf",
        "outputId": "bf854fa9-872e-49b1-8419-e6234ff1f1d8"
      },
      "execution_count": null,
      "outputs": [
        {
          "output_type": "stream",
          "name": "stdout",
          "text": [
            "[12, 4, 3]\n",
            "[7, 5, 8]\n"
          ]
        }
      ]
    }
  ]
}